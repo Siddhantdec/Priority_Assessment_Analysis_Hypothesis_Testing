{
 "cells": [
  {
   "cell_type": "markdown",
   "id": "e8b54556",
   "metadata": {},
   "source": [
    "# Hypothesis Testing: Priority Assessment Analysis"
   ]
  },
  {
   "cell_type": "code",
   "execution_count": null,
   "id": "1e0b22dd",
   "metadata": {},
   "outputs": [],
   "source": [
    "# import the packages\n",
    "import pandas as pd\n",
    "import numpy as np\n",
    "import seaborn as sns\n",
    "import matplotlib.pyplot as plt\n",
    "import datetime as dt\n",
    "import re\n",
    "\n",
    "import scipy.stats as stats\n",
    "\n",
    "# set the graphs to show in the jupyter notebook\n",
    "%matplotlib inline\n",
    "\n",
    "# set seabor graphs to a better style\n",
    "sns.set(style=\"ticks\")\n",
    "\n",
    "from dateutil.relativedelta import relativedelta"
   ]
  },
  {
   "cell_type": "code",
   "execution_count": null,
   "id": "b87ab2ff",
   "metadata": {},
   "outputs": [],
   "source": [
    "# Load the data\n",
    "Assessment = pd.read_csv( 'Priority_Assessment.csv' )\n",
    "Assessment"
   ]
  },
  {
   "cell_type": "markdown",
   "id": "dc3afb83",
   "metadata": {},
   "source": [
    "**Null hypothesis (Ho): Prioritization System is not working as per the company requirements**\n",
    "    \n",
    "**Alternate Hypothesis (Ha) :  Prioritization System is working as per the company requirements.**\n",
    "    \n",
    "**Confidence Interval : 95% ; p-value : 0.05**"
   ]
  },
  {
   "cell_type": "code",
   "execution_count": null,
   "id": "6ba1aed8",
   "metadata": {},
   "outputs": [],
   "source": [
    "High = Assessment.loc[Assessment.Priority == 'High', 'Days']\n",
    "Medium = Assessment.loc[Assessment.Priority == 'Medium', 'Days']\n",
    "Low = Assessment.loc[Assessment.Priority == 'Low', 'Days']\n",
    "\n",
    "print('High mean :',High.mean())\n",
    "print('Medium mean:',Medium.mean())\n",
    "print('Low mean:',Low.mean())\n",
    "\n",
    "# Medium < High < Low\n",
    "# Medium priority jobs are taking less number of days to complete than high priority jobs"
   ]
  },
  {
   "cell_type": "code",
   "execution_count": null,
   "id": "52ff8f62",
   "metadata": {},
   "outputs": [],
   "source": [
    "stats.f_oneway(High, Medium, Low)"
   ]
  },
  {
   "cell_type": "markdown",
   "id": "0a5bc9a7",
   "metadata": {},
   "source": [
    "***p-value > 0.05, therefore we cannot reject the null hypothesis and hence we can say that Prioritization system is not working as per the company standards.***"
   ]
  }
 ],
 "metadata": {
  "kernelspec": {
   "display_name": "Python 3 (ipykernel)",
   "language": "python",
   "name": "python3"
  },
  "language_info": {
   "codemirror_mode": {
    "name": "ipython",
    "version": 3
   },
   "file_extension": ".py",
   "mimetype": "text/x-python",
   "name": "python",
   "nbconvert_exporter": "python",
   "pygments_lexer": "ipython3",
   "version": "3.9.7"
  }
 },
 "nbformat": 4,
 "nbformat_minor": 5
}
